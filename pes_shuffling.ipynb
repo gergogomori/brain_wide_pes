{
  "nbformat": 4,
  "nbformat_minor": 0,
  "metadata": {
    "colab": {
      "provenance": [],
      "machine_shape": "hm",
      "mount_file_id": "1OLsLI2exlQcmJ7RmAYNcfeCMJh8t0ca5",
      "authorship_tag": "ABX9TyMo45qIIOSNb45LgMDbYXWX",
      "include_colab_link": true
    },
    "kernelspec": {
      "name": "python3",
      "display_name": "Python 3"
    },
    "language_info": {
      "name": "python"
    }
  },
  "cells": [
    {
      "cell_type": "markdown",
      "metadata": {
        "id": "view-in-github",
        "colab_type": "text"
      },
      "source": [
        "<a href=\"https://colab.research.google.com/github/gergogomori/brain_wide_pes/blob/main/pes_shuffling.ipynb\" target=\"_parent\"><img src=\"https://colab.research.google.com/assets/colab-badge.svg\" alt=\"Open In Colab\"/></a>"
      ]
    },
    {
      "cell_type": "code",
      "source": [
        "!pip install ONE-api\n"
      ],
      "metadata": {
        "id": "pZ3axBafEbr9"
      },
      "execution_count": null,
      "outputs": []
    },
    {
      "cell_type": "code",
      "execution_count": null,
      "metadata": {
        "id": "0ybKh5jKYVbi"
      },
      "outputs": [],
      "source": [
        "import numpy as np\n",
        "import matplotlib.pyplot as plt\n",
        "import pickle\n",
        "import uuid\n",
        "\n",
        "import pandas  as pd\n",
        "import seaborn as sns\n",
        "\n",
        "from scipy.stats import permutation_test, binomtest\n",
        "\n",
        "from scipy.ndimage import gaussian_filter1d\n"
      ]
    },
    {
      "cell_type": "code",
      "source": [
        "import matplotlib as mpl\n",
        "\n",
        "mpl.rcParams.update({\n",
        "    'axes.labelsize'  : 15,\n",
        "    'xtick.labelsize' : 14,\n",
        "    'ytick.labelsize' : 14,\n",
        "    'legend.fontsize' : 14})\n"
      ],
      "metadata": {
        "id": "6iIciMseTjZU"
      },
      "execution_count": null,
      "outputs": []
    },
    {
      "cell_type": "markdown",
      "source": [
        "# Loading the data"
      ],
      "metadata": {
        "id": "OncUONWtPqql"
      }
    },
    {
      "cell_type": "code",
      "source": [
        "with open('*** Update the folder path here to match your directory structure ***', 'rb') as f:\n",
        "    matched_trials = pickle.load(f)\n",
        "\n",
        "with open('*** Update the folder path here to match your directory structure ***', 'rb') as f:\n",
        "    spikes_all = pickle.load(f)\n",
        "\n",
        "with open('*** Update the folder path here to match your directory structure ***', 'rb') as f:\n",
        "    neuron_region = pickle.load(f)\n"
      ],
      "metadata": {
        "id": "9wsAReHreQwB"
      },
      "execution_count": null,
      "outputs": []
    },
    {
      "cell_type": "code",
      "source": [
        "matched_trials_mod = {}\n",
        "\n",
        "for curr_eid_contr_side in sorted(list(matched_trials.keys())):\n",
        "\n",
        "    matched_trials_mod[curr_eid_contr_side] = {}\n",
        "\n",
        "    for curr_repr in sorted(list(matched_trials[curr_eid_contr_side].keys())):\n",
        "\n",
        "        if curr_repr == 'error':\n",
        "            matched_trials_mod[curr_eid_contr_side]['slowing'] = matched_trials[curr_eid_contr_side]['error']\n",
        "\n",
        "        elif curr_repr == 'choice':\n",
        "            matched_trials_mod[curr_eid_contr_side]['error'] = matched_trials[curr_eid_contr_side]['choice']\n"
      ],
      "metadata": {
        "id": "cI98GVmoWiif"
      },
      "execution_count": null,
      "outputs": []
    },
    {
      "cell_type": "markdown",
      "source": [
        "# Parameters"
      ],
      "metadata": {
        "id": "PKuCbTGpPnlz"
      }
    },
    {
      "cell_type": "code",
      "source": [
        "win_len   = 40 # ms\n",
        "win_shift = 20 # ms\n",
        "t_lims    = (-300, 300) # ms\n",
        "sign_lvl  = 0.05\n"
      ],
      "metadata": {
        "id": "9SG_yF81eQ1H"
      },
      "execution_count": null,
      "outputs": []
    },
    {
      "cell_type": "code",
      "source": [
        "t_mids_pre = np.arange(t_lims[0] + (win_len / 2), 0, win_shift).astype(float)\n",
        "t_wins_pre = [[float(midp - win_len / 2), float(midp + win_len / 2)] for midp in t_mids_pre]\n",
        "\n",
        "t_mids_post = np.arange((win_len / 2), t_lims[1], win_shift).astype(float)\n",
        "t_wins_post = [[float(midp - win_len / 2), float(midp + win_len / 2)] for midp in t_mids_post]\n",
        "\n",
        "t_mids = np.concatenate((t_mids_pre, t_mids_post))\n",
        "t_wins = t_wins_pre + t_wins_post\n",
        "\n",
        "print('The middle of the time bins:')\n",
        "print(t_mids, 'ms')\n",
        "print('The time windows:')\n",
        "print(t_wins, 'ms')\n"
      ],
      "metadata": {
        "id": "oR_vKXNi_dPG"
      },
      "execution_count": null,
      "outputs": []
    },
    {
      "cell_type": "code",
      "source": [
        "time_plot     = np.concatenate((t_mids_pre[1 : : 2], t_mids_post[ : : 2])).astype(int)\n",
        "ind_time_plot = [i for i, t in enumerate(t_mids)  if t in time_plot]\n"
      ],
      "metadata": {
        "id": "tqEE7OD4GcHY"
      },
      "execution_count": null,
      "outputs": []
    },
    {
      "cell_type": "markdown",
      "source": [
        "# Shuffling"
      ],
      "metadata": {
        "id": "ceW8k-3wgUB-"
      }
    },
    {
      "cell_type": "code",
      "source": [
        "def perm_stat(x, y, axis):\n",
        "    return np.mean(x, axis=axis) - np.mean(y, axis=axis)\n"
      ],
      "metadata": {
        "id": "BxE_XUxp7_vP"
      },
      "execution_count": null,
      "outputs": []
    },
    {
      "cell_type": "code",
      "source": [
        "pvals_all = {'slowing' : {}, 'error' : {}}\n",
        "\n",
        "for ind_curr_eid_contr_side, curr_eid_contr_side in enumerate(sorted(list(matched_trials_mod.keys()))):\n",
        "\n",
        "    print('Done with', np.around(ind_curr_eid_contr_side / len(matched_trials_mod.keys()) * 100, 1), '% of the data.')\n",
        "\n",
        "    for curr_repr in sorted(list(matched_trials_mod[curr_eid_contr_side].keys())):\n",
        "\n",
        "        pvals_all[curr_repr][curr_eid_contr_side] = {}\n",
        "\n",
        "        for neuron in sorted(list(spikes_all[(curr_eid_contr_side[0], curr_eid_contr_side[1])])):\n",
        "\n",
        "            curr_sp_pes  = []\n",
        "            curr_sp_npes = []\n",
        "\n",
        "            for trial in matched_trials_mod[curr_eid_contr_side][curr_repr]['pes']:\n",
        "\n",
        "                trial_sp_counts = []\n",
        "                curr_spiketrain = spikes_all[(curr_eid_contr_side[0], curr_eid_contr_side[1])][neuron][trial]\n",
        "\n",
        "                for win in t_wins:\n",
        "                    trial_sp_counts.append(len(curr_spiketrain[np.logical_and(curr_spiketrain > win[0], curr_spiketrain < win[1])]))\n",
        "                curr_sp_pes.append(trial_sp_counts)\n",
        "\n",
        "            for trial in matched_trials_mod[curr_eid_contr_side][curr_repr]['npes']:\n",
        "\n",
        "                trial_sp_counts = []\n",
        "                curr_spiketrain = spikes_all[(curr_eid_contr_side[0], curr_eid_contr_side[1])][neuron][trial]\n",
        "\n",
        "                for win in t_wins:\n",
        "                    trial_sp_counts.append(len(curr_spiketrain[np.logical_and(curr_spiketrain > win[0], curr_spiketrain < win[1])]))\n",
        "                curr_sp_npes.append(trial_sp_counts)\n",
        "\n",
        "            curr_sp_pes  = np.array(curr_sp_pes)\n",
        "            curr_sp_npes = np.array(curr_sp_npes)\n",
        "\n",
        "            assert(curr_sp_pes.shape[1]  == len(t_mids))\n",
        "            assert(curr_sp_npes.shape[1] == len(t_mids))\n",
        "\n",
        "            if np.all((np.sum(curr_sp_pes, axis=0) + np.sum(curr_sp_npes, axis=0)) > 0):\n",
        "\n",
        "                pvals_all[curr_repr][curr_eid_contr_side][neuron] = permutation_test((curr_sp_pes, curr_sp_npes), perm_stat, axis=0, vectorized=True, alternative='two-sided', n_resamples=1e5).pvalue\n",
        "\n",
        "                assert(len(pvals_all[curr_repr][curr_eid_contr_side][neuron]) == len(t_mids))\n",
        "\n",
        "with open('*** Update the folder path here to match your directory structure ***', 'wb') as f:\n",
        "    pickle.dump(pvals_all, f, pickle.HIGHEST_PROTOCOL)\n"
      ],
      "metadata": {
        "id": "_AmvRK9IgV1F"
      },
      "execution_count": null,
      "outputs": []
    },
    {
      "cell_type": "markdown",
      "source": [
        "# Selecting one neuron for each trial condition"
      ],
      "metadata": {
        "id": "JhRUDsOOgWiP"
      }
    },
    {
      "cell_type": "code",
      "source": [
        "sess_cond = {'error' : {}, 'both' : {}}\n",
        "\n",
        "all_sess_contr_side = sorted(list(set(pvals_all['slowing'].keys()) | set(pvals_all['error'].keys())))\n",
        "\n",
        "for curr_eid_contr_side in all_sess_contr_side:\n",
        "\n",
        "    if curr_eid_contr_side in pvals_all['slowing'].keys():\n",
        "\n",
        "        assert(curr_eid_contr_side in pvals_all['error'].keys())\n",
        "\n",
        "    if (curr_eid_contr_side in pvals_all['slowing'].keys()) and (curr_eid_contr_side in pvals_all['error'].keys()):\n",
        "\n",
        "        if curr_eid_contr_side[0] not in sess_cond['both'].keys():\n",
        "            sess_cond['both'][curr_eid_contr_side[0]] = [curr_eid_contr_side]\n",
        "        else:\n",
        "            sess_cond['both'][curr_eid_contr_side[0]].append(curr_eid_contr_side)\n",
        "\n",
        "\n",
        "for curr_eid_contr_side in all_sess_contr_side:\n",
        "\n",
        "    if curr_eid_contr_side[0] not in sess_cond['both'].keys():\n",
        "\n",
        "        assert(not((curr_eid_contr_side in pvals_all['slowing'].keys()) and (curr_eid_contr_side in pvals_all['error'].keys())))\n",
        "\n",
        "        if curr_eid_contr_side in pvals_all['error'].keys():\n",
        "\n",
        "            assert(curr_eid_contr_side not in pvals_all['slowing'].keys())\n",
        "\n",
        "            if curr_eid_contr_side[0] not in sess_cond['error'].keys():\n",
        "                sess_cond['error'][curr_eid_contr_side[0]] = [curr_eid_contr_side]\n",
        "            else:\n",
        "                sess_cond['error'][curr_eid_contr_side[0]].append(curr_eid_contr_side)\n"
      ],
      "metadata": {
        "id": "QJkTe2grymOZ"
      },
      "execution_count": null,
      "outputs": []
    },
    {
      "cell_type": "code",
      "source": [
        "pvals_neurons = {'slowing' : {}, 'error' : {}}\n",
        "\n",
        "neurons2sess_contr_side = {'slowing' : {}, 'error' : {}}\n",
        "\n",
        "for EID in sess_cond['error'].keys():\n",
        "\n",
        "    if len(sess_cond['error'][EID]) == 1:\n",
        "\n",
        "        for neuron in pvals_all['error'][sess_cond['error'][EID][0]].keys():\n",
        "            pvals_neurons['error'][neuron] = pvals_all['error'][sess_cond['error'][EID][0]][neuron]\n",
        "\n",
        "            neurons2sess_contr_side['error'][neuron] = sess_cond['error'][EID][0]\n",
        "\n",
        "    else:\n",
        "\n",
        "        all_sess_res = {}\n",
        "\n",
        "        for curr_eid_contr_side in sess_cond['error'][EID]:\n",
        "\n",
        "            for neuron in sorted(list(pvals_all['error'][curr_eid_contr_side].keys())):\n",
        "\n",
        "                if neuron not in all_sess_res.keys():\n",
        "                    all_sess_res[neuron] = {}\n",
        "\n",
        "                all_sess_res[neuron][curr_eid_contr_side] = pvals_all['error'][curr_eid_contr_side][neuron]\n",
        "\n",
        "        for neuron in sorted(list(all_sess_res.keys())):\n",
        "\n",
        "            curr_neuron_n_sign = {}\n",
        "\n",
        "            for curr_eid_contr_side in sorted(list(all_sess_res[neuron].keys())):\n",
        "                curr_neuron_n_sign[curr_eid_contr_side] = np.sum(all_sess_res[neuron][curr_eid_contr_side] < sign_lvl)\n",
        "\n",
        "            max_n_sign  = max(curr_neuron_n_sign.values())\n",
        "\n",
        "            chosen_sess = [k for k, v in curr_neuron_n_sign.items() if v == max_n_sign]\n",
        "\n",
        "            if len(chosen_sess) == 1:\n",
        "                pvals_neurons['error'][neuron] = pvals_all['error'][chosen_sess[0]][neuron]\n",
        "\n",
        "                assert(neuron not in neurons2sess_contr_side['error'].keys())\n",
        "\n",
        "                neurons2sess_contr_side['error'][neuron] = chosen_sess[0]\n",
        "\n",
        "            else:\n",
        "\n",
        "                curr_neuron_avg_pval = {}\n",
        "\n",
        "                for curr_eid_contr_side in chosen_sess:\n",
        "\n",
        "                    curr_neuron_avg_pval[curr_eid_contr_side] = np.mean(all_sess_res[neuron][curr_eid_contr_side])\n",
        "\n",
        "                sess_smallest_avg_pval = min(curr_neuron_avg_pval, key=curr_neuron_avg_pval.get)\n",
        "\n",
        "                pvals_neurons['error'][neuron] = pvals_all['error'][sess_smallest_avg_pval][neuron]\n",
        "\n",
        "                assert(neuron not in neurons2sess_contr_side['error'].keys())\n",
        "\n",
        "                neurons2sess_contr_side['error'][neuron] = sess_smallest_avg_pval\n"
      ],
      "metadata": {
        "id": "d0pQh1bUIiLB"
      },
      "execution_count": null,
      "outputs": []
    },
    {
      "cell_type": "code",
      "source": [
        "for EID in sess_cond['both'].keys():\n",
        "\n",
        "    if len(sess_cond['both'][EID]) == 1:\n",
        "\n",
        "        curr_neurons_slow  = sorted(list(pvals_all['slowing'][sess_cond['both'][EID][0]].keys()))\n",
        "        curr_neurons_error = sorted(list(pvals_all['error'][sess_cond['both'][EID][0]].keys()))\n",
        "\n",
        "        for neuron in curr_neurons_slow:\n",
        "            pvals_neurons['slowing'][neuron] = pvals_all['slowing'][sess_cond['both'][EID][0]][neuron]\n",
        "\n",
        "            neurons2sess_contr_side['slowing'][neuron] = sess_cond['both'][EID][0]\n",
        "\n",
        "        for neuron in curr_neurons_error:\n",
        "            pvals_neurons['error'][neuron] = pvals_all['error'][sess_cond['both'][EID][0]][neuron]\n",
        "\n",
        "            assert(neuron not in neurons2sess_contr_side['error'].keys())\n",
        "\n",
        "            neurons2sess_contr_side['error'][neuron] = sess_cond['both'][EID][0]\n",
        "\n",
        "\n",
        "    else:\n",
        "\n",
        "        curr_neurons_all = set()\n",
        "\n",
        "        for curr_eid_contr_side in sess_cond['both'][EID]:\n",
        "            curr_neurons_all |= set(pvals_all['slowing'][curr_eid_contr_side].keys())\n",
        "            curr_neurons_all |= set(pvals_all['error'][curr_eid_contr_side].keys())\n",
        "\n",
        "        curr_neurons_res = {}\n",
        "\n",
        "        for neuron in sorted(list(curr_neurons_all)):\n",
        "\n",
        "            curr_neurons_res[neuron] = {'slowing' : {}, 'error' : {}}\n",
        "\n",
        "            for curr_eid_contr_side in sess_cond['both'][EID]:\n",
        "\n",
        "                if neuron in pvals_all['slowing'][curr_eid_contr_side].keys():\n",
        "                    curr_neurons_res[neuron]['slowing'][curr_eid_contr_side] = pvals_all['slowing'][curr_eid_contr_side][neuron]\n",
        "\n",
        "                if neuron in pvals_all['error'][curr_eid_contr_side].keys():\n",
        "                    curr_neurons_res[neuron]['error'][curr_eid_contr_side] = pvals_all['error'][curr_eid_contr_side][neuron]\n",
        "\n",
        "            if len(curr_neurons_res[neuron]['slowing'].keys()) == 0:\n",
        "\n",
        "                assert(len(curr_neurons_res[neuron]['error'].keys()) == 1)\n",
        "\n",
        "                curr_neurons_res[neuron].pop('slowing')\n",
        "\n",
        "            elif len(curr_neurons_res[neuron]['error'].keys()) == 0:\n",
        "\n",
        "                assert(len(curr_neurons_res[neuron]['slowing'].keys()) == 1)\n",
        "\n",
        "                curr_neurons_res[neuron].pop('error')\n",
        "\n",
        "            elif (sorted(list(curr_neurons_res[neuron]['slowing'].keys())) != sorted(list(curr_neurons_res[neuron]['error'].keys()))):\n",
        "\n",
        "                not_selected_sess = sorted(list(set(curr_neurons_res[neuron]['slowing'].keys()).symmetric_difference(set(curr_neurons_res[neuron]['error'].keys()))))\n",
        "\n",
        "                if len(not_selected_sess) == 1:\n",
        "\n",
        "                    assert(((len(curr_neurons_res[neuron]['slowing'].keys()) == 2) and (len(curr_neurons_res[neuron]['error'].keys()) == 1)) or\n",
        "                           ((len(curr_neurons_res[neuron]['slowing'].keys()) == 1) and (len(curr_neurons_res[neuron]['error'].keys()) == 2)))\n",
        "\n",
        "                    if not_selected_sess[0] in curr_neurons_res[neuron]['slowing'].keys():\n",
        "                        curr_neurons_res[neuron]['slowing'].pop(not_selected_sess[0])\n",
        "\n",
        "                    if not_selected_sess[0] in curr_neurons_res[neuron]['error'].keys():\n",
        "                        curr_neurons_res[neuron]['error'].pop(not_selected_sess[0])\n",
        "\n",
        "                    assert(len(curr_neurons_res[neuron]['slowing'].keys()) == 1)\n",
        "                    assert(len(curr_neurons_res[neuron]['error'].keys())   == 1)\n",
        "\n",
        "                else:\n",
        "\n",
        "                    assert(len(not_selected_sess) == 2)\n",
        "\n",
        "                    assert(len(curr_neurons_res[neuron]['slowing'].keys()) == 1)\n",
        "                    assert(len(curr_neurons_res[neuron]['error'].keys())   == 1)\n",
        "\n",
        "                    curr_slowing_sess = list(curr_neurons_res[neuron]['slowing'].keys())[0]\n",
        "                    curr_error_sess   = list(curr_neurons_res[neuron]['error'].keys())[0]\n",
        "\n",
        "                    assert(not(curr_slowing_sess == curr_error_sess))\n",
        "\n",
        "                    curr_n_sign_win_slowing = np.sum(curr_neurons_res[neuron]['slowing'][curr_slowing_sess] < sign_lvl)\n",
        "                    curr_n_sign_win_error   = np.sum(curr_neurons_res[neuron]['error'][curr_error_sess]     < sign_lvl)\n",
        "\n",
        "                    if (curr_n_sign_win_slowing > 0) or (curr_n_sign_win_error > 0):\n",
        "\n",
        "                        if (curr_n_sign_win_slowing > 0):\n",
        "\n",
        "                            assert(not(np.any(curr_neurons_res[neuron]['error'][curr_error_sess] < sign_lvl)))\n",
        "\n",
        "                            curr_neurons_res[neuron].pop('error')\n",
        "\n",
        "                        elif (curr_n_sign_win_error > 0):\n",
        "\n",
        "                            assert(not(np.any(curr_neurons_res[neuron]['slowing'][curr_slowing_sess] < sign_lvl)))\n",
        "\n",
        "                            curr_neurons_res[neuron].pop('slowing')\n",
        "\n",
        "                    else:\n",
        "\n",
        "                        avg_slowing_pvals = np.mean(curr_neurons_res[neuron]['slowing'][curr_slowing_sess])\n",
        "                        avg_error_pvals   = np.mean(curr_neurons_res[neuron]['error'][curr_error_sess])\n",
        "\n",
        "                        if avg_slowing_pvals < avg_error_pvals:\n",
        "                            curr_neurons_res[neuron].pop('error')\n",
        "                        else:\n",
        "                            curr_neurons_res[neuron].pop('slowing')\n",
        "\n",
        "            elif (len(curr_neurons_res[neuron]['slowing'].keys()) == 2) and (len(curr_neurons_res[neuron]['error'].keys()) == 2):\n",
        "\n",
        "                n_sign_win = {}\n",
        "\n",
        "                for curr_sess_contr_side in sess_cond['both'][EID]:\n",
        "\n",
        "                    n_sign_win[curr_sess_contr_side] = np.sum(curr_neurons_res[neuron]['slowing'][curr_sess_contr_side] < sign_lvl) + np.sum(curr_neurons_res[neuron]['error'][curr_sess_contr_side] < sign_lvl)\n",
        "\n",
        "                assert(len(n_sign_win.keys()) == 2)\n",
        "\n",
        "                if n_sign_win[sess_cond['both'][EID][0]] > n_sign_win[sess_cond['both'][EID][1]]:\n",
        "\n",
        "                    curr_neurons_res[neuron]['slowing'].pop(sess_cond['both'][EID][1])\n",
        "                    curr_neurons_res[neuron]['error'].pop(sess_cond['both'][EID][1])\n",
        "\n",
        "                    assert(len(curr_neurons_res[neuron]['slowing'].keys()) == 1)\n",
        "                    assert(len(curr_neurons_res[neuron]['error'].keys())   == 1)\n",
        "\n",
        "                elif n_sign_win[sess_cond['both'][EID][0]] < n_sign_win[sess_cond['both'][EID][1]]:\n",
        "\n",
        "                    curr_neurons_res[neuron]['slowing'].pop(sess_cond['both'][EID][0])\n",
        "                    curr_neurons_res[neuron]['error'].pop(sess_cond['both'][EID][0])\n",
        "\n",
        "                    assert(len(curr_neurons_res[neuron]['slowing'].keys()) == 1)\n",
        "                    assert(len(curr_neurons_res[neuron]['error'].keys())   == 1)\n",
        "\n",
        "                else:\n",
        "\n",
        "                    assert(n_sign_win[sess_cond['both'][EID][0]] == n_sign_win[sess_cond['both'][EID][1]])\n",
        "\n",
        "                    avg_pval = {}\n",
        "\n",
        "                    for curr_sess_contr_side in sess_cond['both'][EID]:\n",
        "                        avg_pval[curr_sess_contr_side] = np.mean(curr_neurons_res[neuron]['slowing'][curr_sess_contr_side]) + np.mean(curr_neurons_res[neuron]['error'][curr_sess_contr_side])\n",
        "\n",
        "                    assert(len(avg_pval.keys()) == 2)\n",
        "\n",
        "                    if avg_pval[sess_cond['both'][EID][0]] > avg_pval[sess_cond['both'][EID][1]]:\n",
        "\n",
        "                        curr_neurons_res[neuron]['slowing'].pop(sess_cond['both'][EID][0])\n",
        "                        curr_neurons_res[neuron]['error'].pop(sess_cond['both'][EID][0])\n",
        "\n",
        "                        assert(len(curr_neurons_res[neuron]['slowing'].keys()) == 1)\n",
        "                        assert(len(curr_neurons_res[neuron]['error'].keys())   == 1)\n",
        "\n",
        "                    elif avg_pval[sess_cond['both'][EID][0]] < avg_pval[sess_cond['both'][EID][1]]:\n",
        "\n",
        "                        curr_neurons_res[neuron]['slowing'].pop(sess_cond['both'][EID][1])\n",
        "                        curr_neurons_res[neuron]['error'].pop(sess_cond['both'][EID][1])\n",
        "\n",
        "                        assert(len(curr_neurons_res[neuron]['slowing'].keys()) == 1)\n",
        "                        assert(len(curr_neurons_res[neuron]['error'].keys())   == 1)\n",
        "\n",
        "        for neuron in sorted(list(curr_neurons_res.keys())):\n",
        "\n",
        "            if 'slowing' in curr_neurons_res[neuron].keys():\n",
        "\n",
        "                sess_contr_side_all = list(curr_neurons_res[neuron]['slowing'].keys())\n",
        "\n",
        "                assert(len(sess_contr_side_all) == 1)\n",
        "\n",
        "                pvals_neurons['slowing'][neuron] = curr_neurons_res[neuron]['slowing'][sess_contr_side_all[0]]\n",
        "\n",
        "                assert(neuron not in neurons2sess_contr_side['slowing'].keys())\n",
        "\n",
        "                neurons2sess_contr_side['slowing'][neuron] = sess_contr_side_all[0]\n",
        "\n",
        "\n",
        "            if 'error' in curr_neurons_res[neuron].keys():\n",
        "\n",
        "                sess_contr_side_all = list(curr_neurons_res[neuron]['error'].keys())\n",
        "\n",
        "                assert(len(sess_contr_side_all) == 1)\n",
        "\n",
        "                pvals_neurons['error'][neuron] = curr_neurons_res[neuron]['error'][sess_contr_side_all[0]]\n",
        "\n",
        "                assert(neuron not in neurons2sess_contr_side['error'].keys())\n",
        "\n",
        "                neurons2sess_contr_side['error'][neuron] = sess_contr_side_all[0]\n"
      ],
      "metadata": {
        "id": "QgVkdDztIiNW"
      },
      "execution_count": null,
      "outputs": []
    },
    {
      "cell_type": "code",
      "source": [
        "for neuron in sorted(list(neurons2sess_contr_side['error'].keys())):\n",
        "\n",
        "    assert(len(neurons2sess_contr_side['error'][neuron]) == 3)\n",
        "\n",
        "\n",
        "for neuron in sorted(list(neurons2sess_contr_side['slowing'].keys())):\n",
        "\n",
        "    assert(len(neurons2sess_contr_side['slowing'][neuron]) == 3)\n"
      ],
      "metadata": {
        "id": "y7gCmD6I48Sr"
      },
      "execution_count": null,
      "outputs": []
    },
    {
      "cell_type": "markdown",
      "source": [
        "# Prominent regions"
      ],
      "metadata": {
        "id": "hR39Der-hKjc"
      }
    },
    {
      "cell_type": "code",
      "source": [
        "regions_temp = {'slowing' : {}, 'error' : {}, 'both' : {}}\n",
        "global_temp  = {'slowing' : {'sign' : np.full(len(t_mids), 0), 'all' : np.full(len(t_mids), 0)},\n",
        "                'error'   : {'sign' : np.full(len(t_mids), 0), 'all' : np.full(len(t_mids), 0)},\n",
        "                'both'    : {'sign' : np.full(len(t_mids), 0), 'all' : np.full(len(t_mids), 0)}}\n",
        "\n",
        "final_neurons_all = sorted(list(set(pvals_neurons['slowing'].keys()) | set(pvals_neurons['error'].keys())))\n",
        "\n",
        "for neuron in final_neurons_all:\n",
        "\n",
        "    if (neuron in pvals_neurons['slowing'].keys()) and (neuron in pvals_neurons['error'].keys()):\n",
        "        global_temp['both']['all']  = global_temp['both']['all'] + 1\n",
        "        global_temp['both']['sign'] = global_temp['both']['sign'] + ((pvals_neurons['slowing'][neuron] < sign_lvl) & (pvals_neurons['error'][neuron] < sign_lvl)).astype(int)\n",
        "\n",
        "    if neuron in pvals_neurons['slowing'].keys():\n",
        "        global_temp['slowing']['all']  = global_temp['slowing']['all'] + 1\n",
        "        global_temp['slowing']['sign'] = global_temp['slowing']['sign'] + (pvals_neurons['slowing'][neuron] < sign_lvl).astype(int)\n",
        "\n",
        "    if neuron in pvals_neurons['error'].keys():\n",
        "        global_temp['error']['all']  = global_temp['error']['all'] + 1\n",
        "        global_temp['error']['sign'] = global_temp['error']['sign'] + (pvals_neurons['error'][neuron] < sign_lvl).astype(int)\n",
        "\n",
        "\n",
        "    if neuron in neuron_region.keys():\n",
        "\n",
        "        curr_region = neuron_region[neuron]\n",
        "\n",
        "        if (neuron in pvals_neurons['slowing'].keys()) and (neuron in pvals_neurons['error'].keys()):\n",
        "\n",
        "            if curr_region not in regions_temp['both']:\n",
        "                regions_temp['both'][curr_region] = {'all'  : np.full(len(t_mids), 1),\n",
        "                                                     'sign' : np.full(len(t_mids), 0)}\n",
        "            else:\n",
        "                regions_temp['both'][curr_region]['all'] = regions_temp['both'][curr_region]['all'] + 1\n",
        "\n",
        "            regions_temp['both'][curr_region]['sign'] = regions_temp['both'][curr_region]['sign'] + ((pvals_neurons['slowing'][neuron] < sign_lvl) & (pvals_neurons['error'][neuron] < sign_lvl)).astype(int)\n",
        "\n",
        "        if neuron in pvals_neurons['slowing'].keys():\n",
        "\n",
        "            if curr_region not in regions_temp['slowing']:\n",
        "                regions_temp['slowing'][curr_region] = {'all'  : np.full(len(t_mids), 1),\n",
        "                                                        'sign' : np.full(len(t_mids), 0)}\n",
        "            else:\n",
        "                regions_temp['slowing'][curr_region]['all'] = regions_temp['slowing'][curr_region]['all'] + 1\n",
        "\n",
        "            regions_temp['slowing'][curr_region]['sign'] = regions_temp['slowing'][curr_region]['sign'] + (pvals_neurons['slowing'][neuron] < sign_lvl).astype(int)\n",
        "\n",
        "        if neuron in pvals_neurons['error'].keys():\n",
        "\n",
        "            if curr_region not in regions_temp['error']:\n",
        "                regions_temp['error'][curr_region] = {'all'  : np.full(len(t_mids), 1),\n",
        "                                                      'sign' : np.full(len(t_mids), 0)}\n",
        "            else:\n",
        "                regions_temp['error'][curr_region]['all'] = regions_temp['error'][curr_region]['all'] + 1\n",
        "\n",
        "            regions_temp['error'][curr_region]['sign'] = regions_temp['error'][curr_region]['sign'] + (pvals_neurons['error'][neuron] < sign_lvl).astype(int)\n",
        "\n",
        "\n",
        "regions_not_involved = {'slowing' : [], 'error' : [], 'both' : []}\n",
        "\n",
        "for curr_case in ['slowing', 'error', 'both']:\n",
        "    for region in sorted(list(regions_temp[curr_case].keys())):\n",
        "\n",
        "        assert(len(regions_temp[curr_case][curr_region]['sign']) == len(t_mids))\n",
        "        assert(len(regions_temp[curr_case][curr_region]['all'])  == len(t_mids))\n",
        "\n",
        "        assert(np.all(regions_temp[curr_case][region]['all'] == regions_temp[curr_case][region]['all'][0]))\n",
        "\n",
        "        if ((np.sum(regions_temp[curr_case][region]['sign']) == 0) or (regions_temp[curr_case][region]['all'][0] < 30)):\n",
        "            regions_not_involved[curr_case].append(region)\n",
        "\n",
        "for curr_case in ['slowing', 'error', 'both']:\n",
        "    for region in regions_not_involved[curr_case]:\n",
        "        del regions_temp[curr_case][region]\n",
        "\n",
        "ratios_temp = {'slowing' : {}, 'error' : {}, 'both' : {}}\n",
        "\n",
        "for curr_case in ['slowing', 'error', 'both']:\n",
        "    for region in regions_temp[curr_case]:\n",
        "\n",
        "        ratios_temp[curr_case][region] = regions_temp[curr_case][region]['sign'] / regions_temp[curr_case][region]['all']\n",
        "\n",
        "        assert(np.all(ratios_temp[curr_case][region] <= 1.0))\n",
        "\n",
        "top_slowing_regions = sorted(regions_temp['slowing'].keys(), key=lambda k : np.max(ratios_temp['slowing'][k]), reverse=True)[ : 3]\n",
        "top_error_regions   = sorted(regions_temp['error'].keys(),   key=lambda k : np.max(ratios_temp['error'][k]),   reverse=True)[ : 3]\n",
        "top_both_regions    = sorted(regions_temp['both'].keys(),    key=lambda k : np.max(ratios_temp['both'][k]),    reverse=True)[ : 3]\n",
        "\n",
        "print(f'Relevant for SLOWING: {top_slowing_regions}')\n",
        "print(f'Relevant for ERROR: {top_error_regions}')\n",
        "print(f'Relevant for BOTH: {top_both_regions}')\n",
        "\n",
        "assert(len(global_temp['slowing']['sign']) == len(t_mids))\n",
        "assert(len(global_temp['slowing']['all'])  == len(t_mids))\n",
        "assert(len(global_temp['error']['sign'])   == len(t_mids))\n",
        "assert(len(global_temp['error']['all'])    == len(t_mids))\n",
        "assert(len(global_temp['both']['sign'])    == len(t_mids))\n",
        "assert(len(global_temp['both']['all'])     == len(t_mids))\n",
        "\n",
        "avg_ratios = {curr_case : global_temp[curr_case]['sign'] / global_temp[curr_case]['all'] for curr_case in global_temp.keys()}\n",
        "\n",
        "assert(len(avg_ratios['slowing']) == len(t_mids))\n",
        "assert(len(avg_ratios['error'])   == len(t_mids))\n",
        "assert(len(avg_ratios['both'])    == len(t_mids))\n",
        "\n",
        "assert(np.all(avg_ratios['slowing'] < 1.0))\n",
        "assert(np.all(avg_ratios['error']   < 1.0))\n",
        "assert(np.all(avg_ratios['both']    < 1.0))\n"
      ],
      "metadata": {
        "id": "tBZDX6gMOsbT"
      },
      "execution_count": null,
      "outputs": []
    },
    {
      "cell_type": "markdown",
      "source": [
        "# General figure"
      ],
      "metadata": {
        "id": "XI_cWJwrD_Pd"
      }
    },
    {
      "cell_type": "code",
      "source": [
        "max_ratios_gen = {}\n",
        "t_max_ratios   = {}\n",
        "n_neurons_gen  = {region : 0 for region in list(set(set(regions_temp['slowing'].keys()) | set(regions_temp['error'].keys()) | set(regions_temp['both'].keys())))}\n",
        "\n",
        "for test_case in ['slowing', 'error', 'both']:\n",
        "\n",
        "    max_ratios_gen[test_case] = {}\n",
        "    t_max_ratios[test_case]   = {}\n",
        "\n",
        "    for region in sorted(list(ratios_temp[test_case].keys())):\n",
        "\n",
        "        if (region in regions_temp[test_case].keys()):\n",
        "\n",
        "            if n_neurons_gen[region] < regions_temp[test_case][region]['all'][0]:\n",
        "\n",
        "                n_neurons_gen[region] = regions_temp[test_case][region]['all'][0]\n",
        "\n",
        "        max_ratios_gen[test_case][region] = np.max(ratios_temp[test_case][region])\n",
        "\n",
        "        t_max_ratios[test_case][region] = int(t_mids[np.argmax(ratios_temp[test_case][region])])\n",
        "\n",
        "\n",
        "slowing_regions_sorted = sorted(regions_temp['slowing'].keys(), key=lambda k : np.max(ratios_temp['slowing'][k]), reverse=False)\n",
        "error_regions_sorted   = sorted(regions_temp['error'].keys(),   key=lambda k : np.max(ratios_temp['error'][k]),   reverse=False)\n",
        "both_regions_sorted    = sorted(regions_temp['both'].keys(),    key=lambda k : np.max(ratios_temp['both'][k]),    reverse=False)\n",
        "\n",
        "print('Number of neurons recorded:')\n",
        "\n",
        "for region in sorted(list(n_neurons_gen)):\n",
        "\n",
        "    print(f'{region} : {n_neurons_gen[region]}')\n"
      ],
      "metadata": {
        "id": "1Oud1CsBECaT"
      },
      "execution_count": null,
      "outputs": []
    },
    {
      "cell_type": "code",
      "source": [
        "fig, axs = plt.subplots(2, 2, figsize=(13, 10))\n",
        "\n",
        "axs[0, 0].remove()\n",
        "axs[1, 0].remove()\n",
        "\n",
        "gs      = axs[0, 0].get_gridspec()\n",
        "ax_left = fig.add_subplot(gs[:, 0])\n",
        "\n",
        "\n",
        "bars_err = ax_left.barh([region for region in error_regions_sorted], [max_ratios_gen['error'][region] for region in error_regions_sorted], edgecolor='black', linewidth=1.2, color='#E6C27A')\n",
        "\n",
        "x_uplim_error = ax_left.get_xlim()[1]\n",
        "\n",
        "for bar, label in zip(bars_err, [t_max_ratios['error'][region] for region in error_regions_sorted]):\n",
        "    ax_left.text(\n",
        "        1.0 * x_uplim_error,\n",
        "        bar.get_y() + bar.get_height() / 2,\n",
        "        str(label) + ' ms',\n",
        "        va='center',\n",
        "        ha='left',\n",
        "        fontsize=13)\n",
        "\n",
        "ax_left.set_xlim([None, 1.2 * x_uplim_error])\n",
        "ax_left.set_xlabel('Maximum ratio of significant \"error\" \\nneurons')\n",
        "\n",
        "\n",
        "bars_slow = axs[0, 1].barh([region for region in slowing_regions_sorted], [max_ratios_gen['slowing'][region] for region in slowing_regions_sorted], edgecolor='black', linewidth=1.2, color='#E6A8A1')\n",
        "\n",
        "x_uplim_slow = axs[0, 1].get_xlim()[1]\n",
        "\n",
        "for bar, label in zip(bars_slow, [t_max_ratios['slowing'][region] for region in slowing_regions_sorted]):\n",
        "    axs[0, 1].text(\n",
        "        1.0 * x_uplim_slow,\n",
        "        bar.get_y() + bar.get_height() / 2,\n",
        "        str(label) + ' ms',\n",
        "        va='center',\n",
        "        ha='left',\n",
        "        fontsize=13)\n",
        "\n",
        "axs[0, 1].set_xlim([None, 1.2 * x_uplim_slow])\n",
        "axs[0, 1].set_xlabel('Maximum ratio of significant \"slowing\" \\nneurons')\n",
        "\n",
        "\n",
        "bars_both = axs[1, 1].barh([region for region in both_regions_sorted], [max_ratios_gen['both'][region] for region in both_regions_sorted], edgecolor='black', linewidth=1.2, color='#A8B97A')\n",
        "\n",
        "x_uplim_both = axs[1, 1].get_xlim()[1]\n",
        "\n",
        "for bar, label in zip(bars_both, [t_max_ratios['both'][region] for region in both_regions_sorted]):\n",
        "    axs[1, 1].text(\n",
        "        1.0 * x_uplim_both,\n",
        "        bar.get_y() + bar.get_height() / 2,\n",
        "        str(label) + ' ms',\n",
        "        va='center',\n",
        "        ha='left',\n",
        "        fontsize=13)\n",
        "\n",
        "axs[1, 1].set_xlim([None, 1.2 * x_uplim_both])\n",
        "axs[1, 1].set_xlabel('Maximum ratio of significant neurons \\ninvolved in both processes')\n",
        "\n",
        "ax_left.set_ylim(-0.5,   len(error_regions_sorted)   - 0.5)\n",
        "axs[0, 1].set_ylim(-0.5, len(slowing_regions_sorted) - 0.5)\n",
        "axs[1, 1].set_ylim(-0.5, len(both_regions_sorted)    - 0.5)\n",
        "\n",
        "\n",
        "plt.subplots_adjust(hspace=0.37)\n",
        "plt.savefig('*** Update the folder path here to match your directory structure ***', format='png', dpi=300, bbox_inches='tight')\n",
        "plt.show()\n"
      ],
      "metadata": {
        "id": "NQFLEpdcpAM-"
      },
      "execution_count": null,
      "outputs": []
    },
    {
      "cell_type": "markdown",
      "source": [
        "# Overview charts"
      ],
      "metadata": {
        "id": "vxCi6C3thHmO"
      }
    },
    {
      "cell_type": "code",
      "source": [
        "curr_colors = {'RN'  : '#4A90E2',\n",
        "               'MOs' : '#FF7F0E',\n",
        "               'MRN' : '#2CA02C',\n",
        "               'IP'  : '#D62728',\n",
        "               'DEC' : '#9467BD',\n",
        "               'avg' : '#7D7D7D'}\n"
      ],
      "metadata": {
        "id": "Uft70IPxIDzf"
      },
      "execution_count": null,
      "outputs": []
    },
    {
      "cell_type": "code",
      "source": [
        "_, axs = plt.subplots(3, 1, figsize=(14, 15), sharex=True)\n",
        "\n",
        "smooth_sig = 1.1\n",
        "\n",
        "axs[0].plot(t_mids, gaussian_filter1d(avg_ratios['slowing'], sigma=smooth_sig), color=curr_colors['avg'], label='Average', linewidth=0.5)\n",
        "\n",
        "for region in top_slowing_regions:\n",
        "    axs[0].plot(t_mids, gaussian_filter1d(ratios_temp['slowing'][region], sigma=smooth_sig), label=region, color=curr_colors[region])\n",
        "\n",
        "axs[0].set_xticks(time_plot)\n",
        "axs[0].vlines(0, 0, axs[0].get_ylim()[1], color='k', linestyle=(0, (5, 10)), zorder=0, linewidth=0.8)\n",
        "axs[0].set_xlabel('Time from Go Cue (ms)')\n",
        "axs[0].set_ylabel('Ratio of \"slowing\" neurons')\n",
        "axs[0].legend()\n",
        "axs[0].tick_params(axis='x', labelbottom=True)\n",
        "\n",
        "\n",
        "axs[1].plot(t_mids, gaussian_filter1d(avg_ratios['error'], sigma=smooth_sig), color=curr_colors['avg'], label='Average', linewidth=0.5)\n",
        "\n",
        "for region in top_error_regions:\n",
        "    axs[1].plot(t_mids, gaussian_filter1d(ratios_temp['error'][region], sigma=smooth_sig), label=region, color=curr_colors[region])\n",
        "\n",
        "axs[1].set_xticks(time_plot)\n",
        "axs[1].vlines(0, 0, axs[1].get_ylim()[1], color='k', linestyle=(0, (5, 10)), zorder=0, linewidth=0.8)\n",
        "axs[1].set_xlabel('Time from Go Cue (ms)')\n",
        "axs[1].set_ylabel('Ratio of \"error\" neurons')\n",
        "axs[1].legend(loc='upper left')\n",
        "axs[1].tick_params(axis='x', labelbottom=True)\n",
        "\n",
        "\n",
        "axs[2].plot(t_mids, gaussian_filter1d(avg_ratios['both'], sigma=smooth_sig), color=curr_colors['avg'], label='Average', linewidth=0.5)\n",
        "\n",
        "for region in top_both_regions:\n",
        "    axs[2].plot(t_mids, gaussian_filter1d(ratios_temp['both'][region], sigma=smooth_sig), label=region, color=curr_colors[region])\n",
        "\n",
        "axs[2].set_xticks(time_plot)\n",
        "axs[2].vlines(0, 0, axs[2].get_ylim()[1], color='k', linestyle=(0, (5, 10)), zorder=0, linewidth=0.8)\n",
        "axs[2].set_xlabel('Time from Go Cue (ms)')\n",
        "axs[2].set_ylabel('Ratio of neurons involved in \\nboth processes')\n",
        "axs[2].legend()\n",
        "\n",
        "\n",
        "plt.savefig('*** Update the folder path here to match your directory structure ***', format='png', dpi=300, bbox_inches='tight')\n",
        "plt.show()\n"
      ],
      "metadata": {
        "id": "NrTbo63MXhi-"
      },
      "execution_count": null,
      "outputs": []
    },
    {
      "cell_type": "markdown",
      "source": [
        "# RN charts"
      ],
      "metadata": {
        "id": "L1uXjyTM-Rmv"
      }
    },
    {
      "cell_type": "code",
      "source": [
        "print(f\"p-value of the slowing binomial test: {binomtest(5, regions_temp['slowing']['RN']['all'][0], p=sign_lvl, alternative='two-sided').pvalue}\")\n",
        "print(f\"p-value of the error binomial test: {  binomtest(5, regions_temp['error']['RN']['all'][0],   p=sign_lvl, alternative='two-sided').pvalue}\")\n",
        "print(f\"p-value of the both binomial test: {   binomtest(2, regions_temp['both']['RN']['all'][0],    p=sign_lvl * sign_lvl, alternative='two-sided').pvalue}\")\n"
      ],
      "metadata": {
        "id": "bMEb--RTDva7"
      },
      "execution_count": null,
      "outputs": []
    },
    {
      "cell_type": "code",
      "source": [
        "_, axs = plt.subplots(3, 1, figsize=(14, 15), sharex=True)\n",
        "\n",
        "axs[0].bar(range(len(t_mids)), ratios_temp['slowing']['RN'], color=curr_colors['RN'], edgecolor='black', linewidth=1)\n",
        "\n",
        "axs[0].set_xlim(0 - 0.5, len(t_mids) - 0.5)\n",
        "axs[0].set_xticks(ind_time_plot, time_plot)\n",
        "axs[0].hlines(5 / regions_temp['slowing']['RN']['all'][0], 1, len(t_mids) - 1, color='#FF3B00', zorder=0, linewidth=0.8)\n",
        "axs[0].vlines(len(t_mids_pre) - 0.5, 0, axs[0].get_ylim()[1], color='k', linestyle=(0, (5, 10)), zorder=1, linewidth=0.8)\n",
        "axs[0].set_xlabel('Time from Go Cue (ms)')\n",
        "axs[0].set_ylabel('Ratio of \"slowing\" neurons')\n",
        "axs[0].tick_params(axis='x', labelbottom=True)\n",
        "\n",
        "\n",
        "axs[1].bar(range(len(t_mids)), ratios_temp['error']['RN'], color=curr_colors['RN'], edgecolor='black', linewidth=1)\n",
        "\n",
        "axs[1].set_xticks(ind_time_plot, time_plot)\n",
        "axs[1].hlines(5 / regions_temp['error']['RN']['all'][0], 1, len(t_mids) - 1, color='#FF3B00', zorder=0, linewidth=0.8)\n",
        "axs[1].vlines(len(t_mids_pre) - 0.5, 0, axs[1].get_ylim()[1], color='k', linestyle=(0, (5, 10)), zorder=1, linewidth=0.8)\n",
        "axs[1].set_xlabel('Time from Go Cue (ms)')\n",
        "axs[1].set_ylabel('Ratio of \"error\" neurons')\n",
        "axs[1].tick_params(axis='x', labelbottom=True)\n",
        "\n",
        "\n",
        "axs[2].bar(range(len(t_mids)), ratios_temp['both']['RN'], color=curr_colors['RN'], edgecolor='black', linewidth=1)\n",
        "\n",
        "axs[2].set_xticks(ind_time_plot, time_plot)\n",
        "axs[2].hlines(2 / regions_temp['both']['RN']['all'][0], 1, len(t_mids) - 1, color='#FF3B00', zorder=0, linewidth=0.8)\n",
        "axs[2].vlines(len(t_mids_pre) - 0.5, 0, axs[2].get_ylim()[1], color='k', linestyle=(0, (5, 10)), zorder=1, linewidth=0.8)\n",
        "axs[2].set_xlabel('Time from Go Cue (ms)')\n",
        "axs[2].set_ylabel('Ratio of neurons involved in \\nboth processes')\n",
        "\n",
        "\n",
        "plt.savefig('*** Update the folder path here to match your directory structure ***', format='png', dpi=300, bbox_inches='tight')\n",
        "plt.show()\n"
      ],
      "metadata": {
        "id": "x92eP0nchTE2"
      },
      "execution_count": null,
      "outputs": []
    },
    {
      "cell_type": "markdown",
      "source": [
        "# Raster plot"
      ],
      "metadata": {
        "id": "TvZSjApHd77Q"
      }
    },
    {
      "cell_type": "code",
      "source": [
        "with open('*** Update the folder path here to match your directory structure ***', 'rb') as f:\n",
        "    fr_z = pickle.load(f)\n",
        "\n",
        "with open('*** Update the folder path here to match your directory structure ***', 'rb') as f:\n",
        "    trials_all = pickle.load(f)\n"
      ],
      "metadata": {
        "id": "zUNg4h21DEr-"
      },
      "execution_count": null,
      "outputs": []
    },
    {
      "cell_type": "code",
      "source": [
        "# IMPORTED PARAMETERS\n",
        "\n",
        "t_lims     = (-350.0, 350.0) # ms\n",
        "sampl_rate = 10.0 # ms\n",
        "time_axis  = np.arange(t_lims[0] + sampl_rate / 2, t_lims[1] - sampl_rate / 2 + 1, sampl_rate)\n",
        "\n",
        "print(time_axis)\n"
      ],
      "metadata": {
        "id": "CIHFIjDAdjWL"
      },
      "execution_count": null,
      "outputs": []
    },
    {
      "cell_type": "code",
      "source": [
        "rn_neurons = {}\n",
        "\n",
        "for neuron in sorted(list(neuron_region.keys())):\n",
        "\n",
        "    if neuron_region[neuron] == 'RN':\n",
        "\n",
        "        if (neuron in neurons2sess_contr_side['error'].keys()) and (neuron in neurons2sess_contr_side['slowing'].keys()):\n",
        "\n",
        "            if neurons2sess_contr_side['error'][neuron] == neurons2sess_contr_side['slowing'][neuron]:\n",
        "\n",
        "                rn_neurons[neuron] = neurons2sess_contr_side['error'][neuron]\n"
      ],
      "metadata": {
        "id": "KKkTwu0H6FdB"
      },
      "execution_count": null,
      "outputs": []
    },
    {
      "cell_type": "code",
      "source": [
        "rand_rn_neuron = ('3c283107-7012-48fc-a6c2-ed096b23974f', np.int64(710))\n",
        "rand_triplet   = rn_neurons[rand_rn_neuron]\n",
        "\n",
        "print(rand_rn_neuron)\n",
        "print(rand_triplet)\n",
        "\n",
        "rand_trials_pes   = matched_trials_mod[rand_triplet]['error']['pes']\n",
        "rand_trials_pens  = matched_trials_mod[rand_triplet]['slowing']['npes']\n",
        "rand_trials_pcorr = matched_trials_mod[rand_triplet]['error']['npes']\n",
        "\n",
        "assert(rand_trials_pes == matched_trials_mod[rand_triplet]['slowing']['pes'])\n"
      ],
      "metadata": {
        "id": "CedJqIpV-ai9"
      },
      "execution_count": null,
      "outputs": []
    },
    {
      "cell_type": "code",
      "source": [
        "rand_sp_pes   = []\n",
        "rand_sp_pens  = []\n",
        "rand_sp_pcorr = []\n",
        "\n",
        "rand_fr_pes   = []\n",
        "rand_fr_pens  = []\n",
        "rand_fr_pcorr = []\n",
        "\n",
        "rand_rt_pes   = []\n",
        "rand_rt_pens  = []\n",
        "rand_rt_pcorr = []\n",
        "\n",
        "for trial in rand_trials_pes:\n",
        "\n",
        "    curr_spiketrain = spikes_all[(rand_triplet[0], rand_triplet[1])][rand_rn_neuron][trial]\n",
        "\n",
        "    rand_sp_pes.append(curr_spiketrain[np.logical_and(curr_spiketrain > t_lims[0], curr_spiketrain < t_lims[1])])\n",
        "    rand_fr_pes.append(fr_z[(rand_triplet[0], rand_triplet[1])][rand_rn_neuron][trial])\n",
        "\n",
        "    rand_rt_pes.append(trials_all[rand_triplet[0]][rand_triplet[1]][trial][0])\n",
        "\n",
        "\n",
        "for trial in rand_trials_pens:\n",
        "\n",
        "    curr_spiketrain = spikes_all[(rand_triplet[0], rand_triplet[1])][rand_rn_neuron][trial]\n",
        "\n",
        "    rand_sp_pens.append(curr_spiketrain[np.logical_and(curr_spiketrain > t_lims[0], curr_spiketrain < t_lims[1])])\n",
        "    rand_fr_pens.append(fr_z[(rand_triplet[0], rand_triplet[1])][rand_rn_neuron][trial])\n",
        "\n",
        "    rand_rt_pens.append(trials_all[rand_triplet[0]][rand_triplet[1]][trial][0])\n",
        "\n",
        "\n",
        "for trial in rand_trials_pcorr:\n",
        "\n",
        "    curr_spiketrain = spikes_all[(rand_triplet[0], rand_triplet[1])][rand_rn_neuron][trial]\n",
        "\n",
        "    rand_sp_pcorr.append(curr_spiketrain[np.logical_and(curr_spiketrain > t_lims[0], curr_spiketrain < t_lims[1])])\n",
        "    rand_fr_pcorr.append(fr_z[(rand_triplet[0], rand_triplet[1])][rand_rn_neuron][trial])\n",
        "\n",
        "    rand_rt_pcorr.append(trials_all[rand_triplet[0]][rand_triplet[1]][trial][0])\n",
        "\n",
        "\n",
        "_, axs = plt.subplots(4, 1, figsize=(8, 12), sharex=True, gridspec_kw={'height_ratios': [1, 1, 1, 3]})\n",
        "\n",
        "axs[0].eventplot(rand_sp_pes, color='k')\n",
        "axs[1].eventplot(rand_sp_pens, color='k')\n",
        "axs[2].eventplot(rand_sp_pcorr, color='k')\n",
        "\n",
        "\n",
        "ind_pes   = np.argmin(np.abs(time_axis - np.median(rand_rt_pes))).astype(int)\n",
        "ind_pens  = np.argmin(np.abs(time_axis - np.median(rand_rt_pens))).astype(int)\n",
        "ind_pcorr = np.argmin(np.abs(time_axis - np.median(rand_rt_pcorr))).astype(int)\n",
        "\n",
        "axs[3].plot(time_axis, np.mean(rand_fr_pes, axis=0), label='Slow post-error', color='#FF9F45')\n",
        "axs[3].scatter([time_axis[ind_pes]], [np.mean(rand_fr_pes, axis=0)[ind_pes]], marker='o', color='#FF9F45')\n",
        "\n",
        "axs[3].plot(time_axis, np.mean(rand_fr_pens, axis=0), label='Non-slow post-error', color='#9A7DCC')\n",
        "axs[3].scatter([time_axis[ind_pens]], [np.mean(rand_fr_pens, axis=0)[ind_pens]], marker='o', color='#9A7DCC')\n",
        "\n",
        "axs[3].plot(time_axis, np.mean(rand_fr_pcorr, axis=0), label='Slow post-correct', color='#4682B4')\n",
        "axs[3].scatter([time_axis[ind_pcorr]], [np.mean(rand_fr_pcorr, axis=0)[ind_pcorr]], marker='o', color='#4682B4')\n",
        "\n",
        "axs[3].vlines(0, axs[3].get_ylim()[0], axs[3].get_ylim()[1], linestyle='--', color='#FF6F61', zorder=0)\n",
        "\n",
        "axs[3].legend()\n",
        "\n",
        "axs[3].set_xlabel('Time from the Go Cue (ms)')\n",
        "axs[3].set_ylabel('Average z-scored\\nfiring rate')\n",
        "\n",
        "axs[0].set_ylabel('Trials')\n",
        "axs[1].set_ylabel('Trials')\n",
        "axs[2].set_ylabel('Trials')\n",
        "\n",
        "axs[0].text(1.02, 0.5, 'Slow post-error\\nspiketrains',     transform=axs[0].transAxes, va='center', ha='left', rotation=0, fontsize=14)\n",
        "axs[1].text(1.02, 0.5, 'Non-slow post-error\\nspiketrains', transform=axs[1].transAxes, va='center', ha='left', rotation=0, fontsize=14)\n",
        "axs[2].text(1.02, 0.5, 'Slow post-correct\\nspiketrains',   transform=axs[2].transAxes, va='center', ha='left', rotation=0, fontsize=14)\n",
        "\n",
        "plt.savefig('*** Update the folder path here to match your directory structure ***', format='png', dpi=300, bbox_inches='tight')\n",
        "plt.show()\n"
      ],
      "metadata": {
        "id": "LWcYsfXPbLSt"
      },
      "execution_count": null,
      "outputs": []
    },
    {
      "cell_type": "code",
      "source": [
        "from one.api import ONE\n",
        "\n",
        "one  = ONE(base_url='https://openalyx.internationalbrainlab.org', password='international', silent=True)\n",
        "\n",
        "ex_sess  = uuid.UUID('1b9e349e-93f2-41cc-a4b5-b212d7ddc8df')\n",
        "info_ex = one.get_details(ex_sess)\n",
        "\n",
        "print('EID:', ex_sess)\n",
        "print('Contrast:', 1.0)\n",
        "print('Side:', 'right')\n",
        "print('Lab:', info_ex['lab'])\n",
        "print('Animal:', info_ex['subject'])\n",
        "print('Starting time:', info_ex['start_time'])\n",
        "print('PID:', '3c283107-7012-48fc-a6c2-ed096b23974f')\n",
        "print('Cluster ID:', 710)\n",
        "\n"
      ],
      "metadata": {
        "id": "Ki1IEcXgES53"
      },
      "execution_count": null,
      "outputs": []
    },
    {
      "cell_type": "code",
      "source": [],
      "metadata": {
        "id": "ZtdYB0Pv7dzX"
      },
      "execution_count": null,
      "outputs": []
    },
    {
      "cell_type": "code",
      "source": [],
      "metadata": {
        "id": "F4IPrV7eP7g5"
      },
      "execution_count": null,
      "outputs": []
    },
    {
      "cell_type": "code",
      "source": [],
      "metadata": {
        "id": "G1q0XVnYeQ6C"
      },
      "execution_count": null,
      "outputs": []
    }
  ]
}