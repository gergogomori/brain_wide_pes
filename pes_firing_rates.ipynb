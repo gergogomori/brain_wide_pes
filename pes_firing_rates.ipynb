{
  "cells": [
    {
      "cell_type": "markdown",
      "metadata": {
        "id": "view-in-github",
        "colab_type": "text"
      },
      "source": [
        "<a href=\"https://colab.research.google.com/github/gergogomori/brain_wide_pes/blob/main/pes_firing_rates.ipynb\" target=\"_parent\"><img src=\"https://colab.research.google.com/assets/colab-badge.svg\" alt=\"Open In Colab\"/></a>"
      ]
    },
    {
      "cell_type": "code",
      "execution_count": null,
      "metadata": {
        "id": "cE7kMvrAPUdT"
      },
      "outputs": [],
      "source": [
        "!pip install elephant\n"
      ]
    },
    {
      "cell_type": "code",
      "execution_count": null,
      "metadata": {
        "id": "CqaUJAEQtLyk"
      },
      "outputs": [],
      "source": []
    },
    {
      "cell_type": "code",
      "execution_count": null,
      "metadata": {
        "id": "fOtIFR-rtL1g"
      },
      "outputs": [],
      "source": [
        "# RESTART SESSION"
      ]
    },
    {
      "cell_type": "code",
      "execution_count": null,
      "metadata": {
        "id": "FT5sxumFtL4o"
      },
      "outputs": [],
      "source": []
    },
    {
      "cell_type": "code",
      "execution_count": null,
      "metadata": {
        "id": "6RJXPSNd8Krx"
      },
      "outputs": [],
      "source": [
        "import numpy as np\n",
        "import matplotlib.pyplot as plt\n",
        "import pickle\n",
        "\n",
        "import quantities as pq\n",
        "import neo\n",
        "from elephant.statistics   import instantaneous_rate\n",
        "from elephant.kernels      import GaussianKernel\n",
        "\n",
        "rng = np.random.default_rng()\n"
      ]
    },
    {
      "cell_type": "markdown",
      "metadata": {
        "id": "hT8ibhb70O06"
      },
      "source": [
        "# Parameters"
      ]
    },
    {
      "cell_type": "code",
      "execution_count": null,
      "metadata": {
        "id": "lzUVrTCPgOcM"
      },
      "outputs": [],
      "source": [
        "t_lims = (-350.0, 350.0) # ms\n",
        "\n",
        "min_avg_fr = 1.0 # Hz\n",
        "\n",
        "sampl_rate = 10.0  # ms\n",
        "ker_sig    = 20.0  # ms\n",
        "\n",
        "t_dec_range = (0, 250) # ms\n",
        "\n",
        "curr_kernel = GaussianKernel(sigma=ker_sig * pq.ms)\n",
        "time_axis   = np.arange(t_lims[0] + sampl_rate / 2, t_lims[1] - sampl_rate / 2 + 1, sampl_rate)\n",
        "\n",
        "print(f'Time axis: {time_axis} ms')\n"
      ]
    },
    {
      "cell_type": "markdown",
      "metadata": {
        "id": "b8Nbeza784P9"
      },
      "source": [
        "# Loading the data"
      ]
    },
    {
      "cell_type": "code",
      "execution_count": null,
      "metadata": {
        "id": "xfUcAoB98Kwc"
      },
      "outputs": [],
      "source": [
        "with open('*** Update the folder path here to match your directory structure ***', 'rb') as f:\n",
        "    spikes_all = pickle.load(f)\n"
      ]
    },
    {
      "cell_type": "markdown",
      "metadata": {
        "id": "D4X49ucDDuHK"
      },
      "source": [
        "# Discarding neurons below the minimum firing rate"
      ]
    },
    {
      "cell_type": "code",
      "execution_count": null,
      "metadata": {
        "id": "JmT0FCwRD2dq"
      },
      "outputs": [],
      "source": [
        "eids_contrs = sorted(list(spikes_all.keys()))\n",
        "\n",
        "print(f'Starting number of sessions: {len(eids_contrs)}')\n",
        "\n",
        "for curr_eid_contr in eids_contrs:\n",
        "\n",
        "    silent_neurons = []\n",
        "    curr_neurons   = sorted(list(spikes_all[curr_eid_contr].keys()))\n",
        "\n",
        "    for neuron in curr_neurons:\n",
        "\n",
        "        n_spikes = 0\n",
        "\n",
        "        for trial in spikes_all[curr_eid_contr][neuron].keys():\n",
        "\n",
        "            curr_spiketrain = spikes_all[curr_eid_contr][neuron][trial]\n",
        "\n",
        "            n_spikes += len(curr_spiketrain[np.logical_and(curr_spiketrain > t_dec_range[0], curr_spiketrain < t_dec_range[1])])\n",
        "\n",
        "        if (n_spikes / (len(spikes_all[curr_eid_contr][neuron].keys()) * ((t_dec_range[1] - t_dec_range[0]) / 1000))) < min_avg_fr:\n",
        "            silent_neurons.append(neuron)\n",
        "\n",
        "    for neuron in curr_neurons:\n",
        "        if neuron in silent_neurons:\n",
        "            spikes_all[curr_eid_contr].pop(neuron)\n",
        "\n",
        "for curr_eid_contr in eids_contrs:\n",
        "    if len(spikes_all[curr_eid_contr].keys()) == 0:\n",
        "        spikes_all.pop(curr_eid_contr)\n",
        "\n",
        "print(f'Final number of sessions: {len(list(spikes_all.keys()))}')\n"
      ]
    },
    {
      "cell_type": "markdown",
      "metadata": {
        "id": "WCpPbAHsEyia"
      },
      "source": [
        "# Converting spiketrains to firing rates"
      ]
    },
    {
      "cell_type": "code",
      "execution_count": null,
      "metadata": {
        "id": "BGrxqK67-int"
      },
      "outputs": [],
      "source": [
        "fr_all = {}\n",
        "eids_contrs = sorted(list(spikes_all.keys()))\n",
        "\n",
        "for ind_eid_contr, curr_eid_contr in enumerate(eids_contrs):\n",
        "\n",
        "    print(f'Done with {np.round(ind_eid_contr / len(eids_contrs) * 100, 2)} % of the data.')\n",
        "\n",
        "    fr_all[curr_eid_contr] = {}\n",
        "\n",
        "    print(len(list(spikes_all[curr_eid_contr].keys())))\n",
        "\n",
        "    for neuron in spikes_all[curr_eid_contr].keys():\n",
        "\n",
        "        fr_all[curr_eid_contr][neuron] = {}\n",
        "\n",
        "        for trial in spikes_all[curr_eid_contr][neuron].keys():\n",
        "\n",
        "            curr_spikes = spikes_all[curr_eid_contr][neuron][trial]\n",
        "            curr_spikes = curr_spikes[np.logical_and(curr_spikes > t_lims[0], curr_spikes < t_lims[1])]\n",
        "            curr_sp_neo = neo.SpikeTrain(curr_spikes, t_start=t_lims[0] * pq.ms, t_stop=t_lims[1] * pq.ms, units=pq.ms)\n",
        "\n",
        "            fr_all[curr_eid_contr][neuron][trial] = instantaneous_rate(curr_sp_neo, sampling_period=sampl_rate * pq.ms, kernel=curr_kernel).magnitude.flatten()\n",
        "\n",
        "            assert(len(fr_all[curr_eid_contr][neuron][trial]) == len(time_axis))\n",
        "\n",
        "with open('*** Update the folder path here to match your directory structure ***', 'wb') as f:\n",
        "    pickle.dump(fr_all, f, pickle.HIGHEST_PROTOCOL)\n"
      ]
    },
    {
      "cell_type": "code",
      "execution_count": null,
      "metadata": {
        "id": "CbRe_C1lTCqY"
      },
      "outputs": [],
      "source": []
    },
    {
      "cell_type": "code",
      "execution_count": null,
      "metadata": {
        "id": "ewCch9f3TCx4"
      },
      "outputs": [],
      "source": []
    },
    {
      "cell_type": "code",
      "source": [],
      "metadata": {
        "id": "Nc3JJDCJgarA"
      },
      "execution_count": null,
      "outputs": []
    }
  ],
  "metadata": {
    "colab": {
      "machine_shape": "hm",
      "provenance": [],
      "mount_file_id": "1iUHAasvlSqKYEYPXT7eE_kIuxpBvDl5V",
      "authorship_tag": "ABX9TyNDGenahHkII4nCsnq3YXAW",
      "include_colab_link": true
    },
    "kernelspec": {
      "display_name": "Python 3",
      "name": "python3"
    },
    "language_info": {
      "name": "python"
    }
  },
  "nbformat": 4,
  "nbformat_minor": 0
}