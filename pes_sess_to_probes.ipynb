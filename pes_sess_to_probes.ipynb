{
  "cells": [
    {
      "cell_type": "markdown",
      "metadata": {
        "id": "view-in-github",
        "colab_type": "text"
      },
      "source": [
        "<a href=\"https://colab.research.google.com/github/gergogomori/brain_wide_pes/blob/main/pes_sess_to_probes.ipynb\" target=\"_parent\"><img src=\"https://colab.research.google.com/assets/colab-badge.svg\" alt=\"Open In Colab\"/></a>"
      ]
    },
    {
      "cell_type": "code",
      "execution_count": null,
      "metadata": {
        "id": "fpU9qZ64hPrX"
      },
      "outputs": [],
      "source": [
        "! pip install ONE-api\n",
        "! pip install ibllib\n",
        "! pip install iblatlas\n"
      ]
    },
    {
      "cell_type": "code",
      "execution_count": null,
      "metadata": {
        "id": "kgLXIovThVlO"
      },
      "outputs": [],
      "source": [
        "import numpy as np\n",
        "import pickle\n",
        "import shutil\n",
        "\n",
        "from one.api import ONE\n",
        "one = ONE(base_url='https://openalyx.internationalbrainlab.org', password='international', silent=True)\n",
        "\n",
        "from iblatlas.atlas import AllenAtlas\n",
        "brain_atlas = AllenAtlas()\n",
        "\n",
        "from brainbox.io.one import SpikeSortingLoader\n",
        "\n",
        "import warnings\n",
        "import one.alf.exceptions as alferr\n",
        "warnings.filterwarnings(\"ignore\", category=alferr.ALFWarning)\n",
        "\n",
        "# Load EID-s\n",
        "eids = one.search(datasets='spikes.times.npy')\n",
        "print('Number of sessions available:', len(eids))\n"
      ]
    },
    {
      "cell_type": "code",
      "source": [
        "with open('*** Update the folder path here to match your directory structure ***', 'rb') as f:\n",
        "    trials_all = pickle.load(f)\n"
      ],
      "metadata": {
        "id": "bL4JHyOLlzGn"
      },
      "execution_count": null,
      "outputs": []
    },
    {
      "cell_type": "code",
      "execution_count": null,
      "metadata": {
        "id": "-iJoiOP-hVpk"
      },
      "outputs": [],
      "source": [
        "probes_all = {}\n",
        "\n",
        "for i, EID in enumerate(sorted(list(trials_all.keys()))):\n",
        "\n",
        "    print('Done with', np.around(i / len(trials_all.keys()) * 100, 1), '% of all sessions.')\n",
        "\n",
        "    pids, _ = one.eid2pid(EID)\n",
        "\n",
        "    for PID in pids:\n",
        "\n",
        "        sl = SpikeSortingLoader(pid=PID, one=one, atlas=brain_atlas)\n",
        "        spikes, clusters, channels = sl.load_spike_sorting()\n",
        "        clusters = sl.merge_clusters(spikes, clusters, channels)\n",
        "\n",
        "        PID = str(PID)\n",
        "\n",
        "        if clusters is not None:\n",
        "            for i_cl in range(len(clusters['uuids'])):\n",
        "\n",
        "                curr_cl = clusters['cluster_id'][i_cl]\n",
        "\n",
        "                if clusters['label'][i_cl] == 1.0:\n",
        "\n",
        "                    if EID not in probes_all.keys():\n",
        "                        probes_all[EID] = {}\n",
        "\n",
        "                    if PID not in probes_all[EID].keys():\n",
        "                        probes_all[EID][PID] = [curr_cl]\n",
        "                    else:\n",
        "                        probes_all[EID][PID].append(curr_cl)\n",
        "\n",
        "    shutil.rmtree('/root/Downloads/ONE/openalyx.internationalbrainlab.org/' + one.get_details(EID)['lab'], ignore_errors=True)\n",
        "\n",
        "with open('*** Update the folder path here to match your directory structure ***', 'wb') as f:\n",
        "    pickle.dump(probes_all, f, pickle.HIGHEST_PROTOCOL)\n"
      ]
    },
    {
      "cell_type": "code",
      "source": [],
      "metadata": {
        "id": "pbCUTb79tyl4"
      },
      "execution_count": null,
      "outputs": []
    },
    {
      "cell_type": "code",
      "source": [],
      "metadata": {
        "id": "r3pSdod1PWzn"
      },
      "execution_count": null,
      "outputs": []
    },
    {
      "cell_type": "code",
      "source": [],
      "metadata": {
        "id": "hzemjpo95Xc3"
      },
      "execution_count": null,
      "outputs": []
    }
  ],
  "metadata": {
    "colab": {
      "machine_shape": "hm",
      "provenance": [],
      "mount_file_id": "1R6jeQCp5RK99UYGg1bj6QdflHJxx7E66",
      "authorship_tag": "ABX9TyM1/lfijR8JpRgSrgDASE7q",
      "include_colab_link": true
    },
    "kernelspec": {
      "display_name": "Python 3",
      "name": "python3"
    },
    "language_info": {
      "name": "python"
    }
  },
  "nbformat": 4,
  "nbformat_minor": 0
}