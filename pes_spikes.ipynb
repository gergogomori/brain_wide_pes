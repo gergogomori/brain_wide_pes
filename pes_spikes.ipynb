{
  "cells": [
    {
      "cell_type": "markdown",
      "metadata": {
        "id": "view-in-github",
        "colab_type": "text"
      },
      "source": [
        "<a href=\"https://colab.research.google.com/github/gergogomori/brain_wide_pes/blob/main/pes_spikes.ipynb\" target=\"_parent\"><img src=\"https://colab.research.google.com/assets/colab-badge.svg\" alt=\"Open In Colab\"/></a>"
      ]
    },
    {
      "cell_type": "code",
      "execution_count": null,
      "metadata": {
        "id": "S8DrYI2rnpuo"
      },
      "outputs": [],
      "source": [
        "!pip install ONE-api\n",
        "!pip install ibllib\n",
        "!pip install iblatlas\n",
        "!pip install numpy==1.26.4\n"
      ]
    },
    {
      "cell_type": "code",
      "source": [],
      "metadata": {
        "id": "ABjSFqfDlydy"
      },
      "execution_count": null,
      "outputs": []
    },
    {
      "cell_type": "code",
      "source": [
        "# RESTART SESSION"
      ],
      "metadata": {
        "id": "rYhUIm2Zlyg6"
      },
      "execution_count": null,
      "outputs": []
    },
    {
      "cell_type": "code",
      "source": [],
      "metadata": {
        "id": "Gv9Z1cPXlzFI"
      },
      "execution_count": null,
      "outputs": []
    },
    {
      "cell_type": "code",
      "execution_count": null,
      "metadata": {
        "id": "u40hCVP9nzFZ"
      },
      "outputs": [],
      "source": [
        "import numpy as np\n",
        "import matplotlib.pyplot as plt\n",
        "import pickle\n",
        "import shutil\n",
        "\n",
        "from one.api import ONE\n",
        "ONE.setup(base_url='https://openalyx.internationalbrainlab.org', silent=True)\n",
        "one = ONE(password='international')\n",
        "\n",
        "from iblatlas.atlas import AllenAtlas\n",
        "brain_atlas = AllenAtlas()\n",
        "\n",
        "from brainbox.io.one import SpikeSortingLoader\n",
        "\n",
        "import warnings\n",
        "import one.alf.exceptions as alferr\n",
        "warnings.filterwarnings(\"ignore\", category=alferr.ALFWarning)\n",
        "\n",
        "# Load EID-s\n",
        "eids = one.search(datasets='spikes.times.npy')\n",
        "print('Number of sessions available:', len(eids))\n"
      ]
    },
    {
      "cell_type": "code",
      "source": [
        "print(np.__version__)\n"
      ],
      "metadata": {
        "id": "cQ39FXPTl2Rh"
      },
      "execution_count": null,
      "outputs": []
    },
    {
      "cell_type": "markdown",
      "source": [
        "# Load the current dicts"
      ],
      "metadata": {
        "id": "bgLmtR98MsYw"
      }
    },
    {
      "cell_type": "code",
      "source": [
        "with open('*** Update the folder path here to match your directory structure ***', 'rb') as f:\n",
        "    trials_all = pickle.load(f)\n",
        "\n",
        "with open('*** Update the folder path here to match your directory structure ***', 'rb') as f:\n",
        "    probes_all = pickle.load(f)\n"
      ],
      "metadata": {
        "id": "IGGqH2vDMspJ"
      },
      "execution_count": null,
      "outputs": []
    },
    {
      "cell_type": "markdown",
      "source": [
        "# Parameter(s)"
      ],
      "metadata": {
        "id": "wIWHWEyRMFkW"
      }
    },
    {
      "cell_type": "markdown",
      "source": [
        "Keep these parameters!"
      ],
      "metadata": {
        "id": "JM3pMTSHUS31"
      }
    },
    {
      "cell_type": "code",
      "source": [
        "# Time period around movement onset\n",
        "t_lims = (-500, 500) # ms\n"
      ],
      "metadata": {
        "id": "8rNKQoC_E-1r"
      },
      "execution_count": null,
      "outputs": []
    },
    {
      "cell_type": "markdown",
      "metadata": {
        "id": "A8nHJhfYpTbu"
      },
      "source": [
        "# Extracting the spikes aligned to the Go Cue"
      ]
    },
    {
      "cell_type": "code",
      "execution_count": null,
      "metadata": {
        "id": "iHTnZUcMnzVR"
      },
      "outputs": [],
      "source": [
        "spikes_all = {}\n",
        "\n",
        "curr_eids = list(set(trials_all.keys()) & set(probes_all.keys()))\n",
        "\n",
        "for ind_EID, EID in enumerate(curr_eids):\n",
        "\n",
        "    print(f'Done with {np.round(ind_EID / len(curr_eids) * 100, 2)} % of all sessions.')\n",
        "\n",
        "    # Load trial data\n",
        "    trials = one.load_object(EID, 'trials')\n",
        "\n",
        "    curr_pids = sorted(list(probes_all[EID].keys()))\n",
        "\n",
        "    for contr in sorted(list(trials_all[EID].keys())):\n",
        "\n",
        "        spikes_all[(EID, contr)] = {}\n",
        "\n",
        "        curr_trials = sorted(list(trials_all[EID][contr].keys()))\n",
        "\n",
        "        for PID in curr_pids:\n",
        "\n",
        "            # Load spiketrains\n",
        "            sl = SpikeSortingLoader(pid=PID, one=one, atlas=brain_atlas)\n",
        "            spikes, clusters, channels = sl.load_spike_sorting()\n",
        "            clusters = sl.merge_clusters(spikes, clusters, channels)\n",
        "\n",
        "            # Selecting only the spikes which have a proper value\n",
        "            valid_i        = np.logical_and(np.isfinite(spikes['times']), np.isfinite(spikes['depths']))\n",
        "            valid_spikes   = spikes['times'][valid_i]\n",
        "            valid_clusters = spikes['clusters'][valid_i]\n",
        "\n",
        "            # Selecting the \"good\" clusters\n",
        "            target_clusts = sorted(list((probes_all[EID][PID])))\n",
        "            i_tar_clust   = np.isin(valid_clusters, target_clusts)\n",
        "            tar_spikes    = valid_spikes[i_tar_clust]\n",
        "            tar_clusters  = valid_clusters[i_tar_clust]\n",
        "\n",
        "            for trial in curr_trials:\n",
        "\n",
        "                t_align = trials['goCue_times'][trial]\n",
        "                t_pre   = t_lims[0]\n",
        "                t_post  = t_lims[1]\n",
        "\n",
        "                t_min = t_align + (t_pre  / 1000)\n",
        "                t_max = t_align + (t_post / 1000)\n",
        "\n",
        "                # Filter out spikes outside of the interesting time period of the current trial\n",
        "                curr_inds     = np.logical_and(tar_spikes > t_min, tar_spikes < t_max)\n",
        "                curr_spikes   = tar_spikes[curr_inds]\n",
        "                curr_clusters = tar_clusters[curr_inds]\n",
        "\n",
        "                for neuron in target_clusts:\n",
        "\n",
        "                    if (PID, neuron) not in spikes_all[(EID, contr)].keys():\n",
        "                        spikes_all[(EID, contr)][(PID, neuron)] = {}\n",
        "\n",
        "                    # Filter out spikes from other neurons\n",
        "                    spikes_all[(EID, contr)][(PID, neuron)][trial] = np.subtract(curr_spikes[np.equal(curr_clusters, neuron)], t_align) * 1000\n",
        "\n",
        "    shutil.rmtree('/root/Downloads/ONE/openalyx.internationalbrainlab.org/' + one.get_details(EID)['lab'], ignore_errors=True)\n",
        "\n",
        "with open('*** Update the folder path here to match your directory structure ***', 'wb') as f:\n",
        "    pickle.dump(spikes_all, f, pickle.HIGHEST_PROTOCOL)\n"
      ]
    },
    {
      "cell_type": "code",
      "source": [],
      "metadata": {
        "id": "9E9kYMGwJ7E3"
      },
      "execution_count": null,
      "outputs": []
    },
    {
      "cell_type": "code",
      "source": [],
      "metadata": {
        "id": "wCpM4LNDiTlv"
      },
      "execution_count": null,
      "outputs": []
    },
    {
      "cell_type": "code",
      "source": [],
      "metadata": {
        "id": "gCO2uUo-ii5r"
      },
      "execution_count": null,
      "outputs": []
    }
  ],
  "metadata": {
    "colab": {
      "provenance": [],
      "machine_shape": "hm",
      "mount_file_id": "1O5Hpn59QSiuUgVnO1EoKliA4cudnTf9s",
      "authorship_tag": "ABX9TyPVCcaRq5p0DMgsmJM0AAnv",
      "include_colab_link": true
    },
    "kernelspec": {
      "display_name": "Python 3",
      "name": "python3"
    },
    "language_info": {
      "name": "python"
    }
  },
  "nbformat": 4,
  "nbformat_minor": 0
}